{
 "cells": [
  {
   "cell_type": "code",
   "execution_count": 1,
   "id": "5df33330-00ed-48cc-a0e7-6e6b69fd1b51",
   "metadata": {},
   "outputs": [],
   "source": [
    "import torch\n",
    "import torch.nn as nn\n",
    "from torch.optim import Adam\n",
    "from torch.distributions.uniform import Uniform # to initialise the weights in the NN\n",
    "from torch.utils.data import DataLoader, TensorDataset \n",
    "\n",
    "import pandas as pd\n",
    "import matplotlib.pyplot as plt\n",
    "import seaborn as sns"
   ]
  },
  {
   "cell_type": "code",
   "execution_count": 4,
   "id": "241e097f-28a8-44cb-a332-f42d3ddc88c4",
   "metadata": {},
   "outputs": [],
   "source": [
    "\"\"\"\n",
    "Lets assume we have 2 simple sentences - \n",
    "Troll2 is great. \n",
    "Gymkata is great.\n",
    "\n",
    "so, our vocab is 4 words/tokens long.\n",
    "When we input Troll2 in the NN, our input would look like 1 0 0 0.\n",
    "1 for Troll2, and 0 for is, great and Gymkata.\n",
    "so, we are basically doing One-Hot-Encoding over our input.\n",
    "\"\"\"\n",
    "\n",
    "inputs = torch.tensor([[1.0, 0., 0., 0.],\n",
    "[0., 1.0, 0., 0.],\n",
    "[0., 0., 1.0, 0.],\n",
    "[0., 0., 0., 1.0]])\n",
    "\n",
    "#the goal is to create a simple NN which can predict the next token.\n",
    "# we are assuming that great predicts Gymkata in our example.\n",
    "\n",
    "labels = torch.tensor([[0., 1.0, 0., 0.], \n",
    "[0., 0., 1.0, 0.],\n",
    "[0., 0., 0., 1.0],\n",
    "[0., 1.0, 0., 0.]])"
   ]
  },
  {
   "cell_type": "code",
   "execution_count": null,
   "id": "633f2cc4-afa9-4006-8191-eefaffb0542f",
   "metadata": {},
   "outputs": [],
   "source": []
  }
 ],
 "metadata": {
  "kernelspec": {
   "display_name": "Python 3 (ipykernel)",
   "language": "python",
   "name": "python3"
  },
  "language_info": {
   "codemirror_mode": {
    "name": "ipython",
    "version": 3
   },
   "file_extension": ".py",
   "mimetype": "text/x-python",
   "name": "python",
   "nbconvert_exporter": "python",
   "pygments_lexer": "ipython3",
   "version": "3.11.8"
  }
 },
 "nbformat": 4,
 "nbformat_minor": 5
}
