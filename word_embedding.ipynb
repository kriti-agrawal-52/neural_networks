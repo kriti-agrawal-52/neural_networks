{
 "cells": [
  {
   "cell_type": "code",
   "execution_count": 1,
   "id": "5df33330-00ed-48cc-a0e7-6e6b69fd1b51",
   "metadata": {},
   "outputs": [],
   "source": [
    "import torch\n",
    "import torch.nn as nn\n",
    "from torch.optim import Adam\n",
    "from torch.distributions.uniform import Uniform # to initialise the weights in the NN\n",
    "from torch.utils.data import DataLoader, TensorDataset \n",
    "\n",
    "import pandas as pd\n",
    "import matplotlib.pyplot as plt\n",
    "import seaborn as sns\n",
    "\n",
    "import lightning as L"
   ]
  },
  {
   "cell_type": "code",
   "execution_count": 2,
   "id": "241e097f-28a8-44cb-a332-f42d3ddc88c4",
   "metadata": {},
   "outputs": [],
   "source": [
    "\"\"\"\n",
    "Lets assume we have 2 simple sentences - \n",
    "Troll2 is great. \n",
    "Gymkata is great.\n",
    "\n",
    "so, our vocab is 4 words/tokens long.\n",
    "When we input Troll2 in the NN, our input would look like 1 0 0 0.\n",
    "1 for Troll2, and 0 for is, great and Gymkata.\n",
    "so, we are basically doing One-Hot-Encoding over our input.\n",
    "\"\"\"\n",
    "\n",
    "inputs = torch.tensor([[1.0, 0., 0., 0.],\n",
    "[0., 1.0, 0., 0.],\n",
    "[0., 0., 1.0, 0.],\n",
    "[0., 0., 0., 1.0]])\n",
    "\n",
    "#the goal is to create a simple NN which can predict the next token.\n",
    "# we are assuming that great predicts Gymkata in our example.\n",
    "\n",
    "labels = torch.tensor([[0., 1.0, 0., 0.], \n",
    "[0., 0., 1.0, 0.],\n",
    "[0., 0., 0., 1.0],\n",
    "[0., 1.0, 0., 0.]])\n",
    "\n",
    "# we combine the input and labels into a tensor dataset\n",
    "dataset = TensorDataset(inputs, labels)"
   ]
  },
  {
   "cell_type": "code",
   "execution_count": 3,
   "id": "633f2cc4-afa9-4006-8191-eefaffb0542f",
   "metadata": {},
   "outputs": [
    {
     "data": {
      "text/plain": [
       "'\\ndataloaders are useful when we have a lot of training data\\nmaking it easy to access data in batches\\neasier to shuffle the data in each epoch\\nmakes it easy to use a small fraction of data\\n'"
      ]
     },
     "execution_count": 3,
     "metadata": {},
     "output_type": "execute_result"
    }
   ],
   "source": [
    "dataloader = DataLoader(dataset) \n",
    "\"\"\"\n",
    "dataloaders are useful when we have a lot of training data\n",
    "making it easy to access data in batches\n",
    "easier to shuffle the data in each epoch\n",
    "makes it easy to use a small fraction of data\n",
    "\"\"\""
   ]
  },
  {
   "cell_type": "code",
   "execution_count": 4,
   "id": "74ea3c66-0f19-4762-91a5-0977800eaec5",
   "metadata": {},
   "outputs": [],
   "source": [
    "class WordEmbeddingFromScratch(L.LightningModule):\n",
    "    def __init__(self):\n",
    "        super().__init__()\n",
    "        # using uniform distribution to generate random weights between 0.5 and -0.5, ie each value has equal probability\n",
    "        min_value = -0.5\n",
    "        max_value = 0.5\n",
    "\n",
    "        self.input1_w1 = nn.Parameter(Uniform(min_value, max_value).sample())\n",
    "        self.input1_w2 = nn.Parameter(Uniform(min_value, max_value).sample())\n",
    "        self.input2_w1 = nn.Parameter(Uniform(min_value, max_value).sample())\n",
    "        self.input2_w2 = nn.Parameter(Uniform(min_value, max_value).sample())\n",
    "        self.input3_w1 = nn.Parameter(Uniform(min_value, max_value).sample())\n",
    "        self.input3_w2 = nn.Parameter(Uniform(min_value, max_value).sample())\n",
    "        self.input4_w1 = nn.Parameter(Uniform(min_value, max_value).sample())\n",
    "        self.input4_w2 = nn.Parameter(Uniform(min_value, max_value).sample())\n",
    "\n",
    "        self.output1_w1 = nn.Parameter(Uniform(min_value, max_value).sample())\n",
    "        self.output1_w2 = nn.Parameter(Uniform(min_value, max_value).sample())\n",
    "        self.output2_w1 = nn.Parameter(Uniform(min_value, max_value).sample())\n",
    "        self.output2_w2 = nn.Parameter(Uniform(min_value, max_value).sample())\n",
    "        self.output3_w1 = nn.Parameter(Uniform(min_value, max_value).sample())\n",
    "        self.output3_w2 = nn.Parameter(Uniform(min_value, max_value).sample())\n",
    "        self.output4_w1 = nn.Parameter(Uniform(min_value, max_value).sample())\n",
    "        self.output4_w2 = nn.Parameter(Uniform(min_value, max_value).sample())\n",
    "\n",
    "        self.loss= nn.CrossEntropyLoss()\n",
    "        \n",
    "    def forward(self, input):\n",
    "        input = input[0] # since we have a list of lists\n",
    "        inputs_to_top_hidden = (input[0] * self.input1_w1) + (input[1] * self.input2_w1) + (input[2] * self.input3_w1) + (input[3] * self.input4_w1)\n",
    "        inputs_to_bottom_hidden = (input[0] * self.input1_w2) + (input[1] * self.input2_w2) + (input[2] * self.input3_w2) + (input[3] * self.input4_w2)\n",
    "        # since the activation functions are the identity functions ie input is the same as the output \n",
    "\n",
    "        output1 = inputs_to_top_hidden * self.output1_w1 + inputs_to_bottom_hidden * self.output1_w2\n",
    "        output2 = inputs_to_top_hidden * self.output2_w1 + inputs_to_bottom_hidden * self.output2_w2\n",
    "        output3 = inputs_to_top_hidden * self.output3_w1 + inputs_to_bottom_hidden * self.output3_w2\n",
    "        output4 = inputs_to_top_hidden * self.output4_w1 + inputs_to_bottom_hidden * self.output4_w2\n",
    "\n",
    "        # the cross entropy loss function that we are using for backpropagation does the softmax for us\n",
    "        # packaging up the output values using torch.stack\n",
    "        # if instead of using torch.stack, we just returned a list of output variables by wrapping them in square brackets, then the gradients would get stripped off\n",
    "        # and we wont be able to do backpropagation\n",
    "        output_presoftmax = torch.stack ([output1, output2, output3, output4]) \n",
    "        return output_presoftmax\n",
    "        \n",
    "    def configure_optimizers(self):\n",
    "        return Adam(self.parameters(), lr = 0.1)\n",
    "\n",
    "    def training_step(self, batch, batch_idx):\n",
    "        # split the batch of training data into input and labels\n",
    "        input_i, label_i = batch\n",
    "        output_i = self.forward(input_i)\n",
    "        loss = self.loss(output_i, label_i[0]) # cross entropy itself runs the output values through the softmax activation function\n",
    "                                               # and quantifies the difference between the predicted softmax values and the actual target values\n",
    "        return loss\n",
    "\n"
   ]
  },
  {
   "cell_type": "code",
   "execution_count": 5,
   "id": "2aada94c-e44f-4959-a69b-7749c8632445",
   "metadata": {},
   "outputs": [],
   "source": [
    "model_from_scratch = WordEmbeddingFromScratch()"
   ]
  },
  {
   "cell_type": "code",
   "execution_count": 6,
   "id": "04b6f628-09f2-4a03-b020-0f0eda58412f",
   "metadata": {},
   "outputs": [
    {
     "name": "stdout",
     "output_type": "stream",
     "text": [
      "Before optimization the parameters are: [('input1_w1', tensor(0.0403)), ('input1_w2', tensor(0.3034)), ('input2_w1', tensor(0.0728)), ('input2_w2', tensor(-0.3171)), ('input3_w1', tensor(-0.2140)), ('input3_w2', tensor(0.4300)), ('input4_w1', tensor(0.4868)), ('input4_w2', tensor(0.2249)), ('output1_w1', tensor(-0.1065)), ('output1_w2', tensor(-0.1659)), ('output2_w1', tensor(-0.1198)), ('output2_w2', tensor(0.3762)), ('output3_w1', tensor(-0.3731)), ('output3_w2', tensor(0.2073)), ('output4_w1', tensor(-0.1684)), ('output4_w2', tensor(-0.0785))]\n"
     ]
    }
   ],
   "source": [
    "print(f\"Before optimization the parameters are: {[ (name, param.data) for name, param in model_from_scratch.named_parameters() ]}\")"
   ]
  },
  {
   "cell_type": "code",
   "execution_count": 7,
   "id": "8582cd55-62d8-465a-9965-f6338a785f91",
   "metadata": {},
   "outputs": [],
   "source": [
    "# creating a pandas dataframe with embeddings for each input token\n",
    "param_dict = {}\n",
    "for name, param in model_from_scratch.named_parameters():\n",
    "    if name.startswith(\"input\") and \"_\" in name:\n",
    "        word, weight = name.split('_')\n",
    "        if word not in param_dict:\n",
    "            param_dict[word]={}\n",
    "        param_dict[word][weight] = param.item()\n",
    "\n",
    "# convert to dataframe \n",
    "df = pd.DataFrame.from_dict(param_dict, orient = 'index')\n",
    "df.index.name = word"
   ]
  },
  {
   "cell_type": "code",
   "execution_count": 8,
   "id": "8fec23eb-220f-45a8-9d36-9980fb12b2dd",
   "metadata": {},
   "outputs": [],
   "source": [
    "df['token'] = ['Troll2', 'is', 'great','Gymkata']"
   ]
  },
  {
   "cell_type": "code",
   "execution_count": 9,
   "id": "6e69b32d-151c-49e5-8ab2-16bb59c67a99",
   "metadata": {},
   "outputs": [
    {
     "data": {
      "text/html": [
       "<div>\n",
       "<style scoped>\n",
       "    .dataframe tbody tr th:only-of-type {\n",
       "        vertical-align: middle;\n",
       "    }\n",
       "\n",
       "    .dataframe tbody tr th {\n",
       "        vertical-align: top;\n",
       "    }\n",
       "\n",
       "    .dataframe thead th {\n",
       "        text-align: right;\n",
       "    }\n",
       "</style>\n",
       "<table border=\"1\" class=\"dataframe\">\n",
       "  <thead>\n",
       "    <tr style=\"text-align: right;\">\n",
       "      <th></th>\n",
       "      <th>w1</th>\n",
       "      <th>w2</th>\n",
       "      <th>token</th>\n",
       "    </tr>\n",
       "    <tr>\n",
       "      <th>input4</th>\n",
       "      <th></th>\n",
       "      <th></th>\n",
       "      <th></th>\n",
       "    </tr>\n",
       "  </thead>\n",
       "  <tbody>\n",
       "    <tr>\n",
       "      <th>input1</th>\n",
       "      <td>0.040346</td>\n",
       "      <td>0.303361</td>\n",
       "      <td>Troll2</td>\n",
       "    </tr>\n",
       "    <tr>\n",
       "      <th>input2</th>\n",
       "      <td>0.072815</td>\n",
       "      <td>-0.317135</td>\n",
       "      <td>is</td>\n",
       "    </tr>\n",
       "    <tr>\n",
       "      <th>input3</th>\n",
       "      <td>-0.213966</td>\n",
       "      <td>0.429999</td>\n",
       "      <td>great</td>\n",
       "    </tr>\n",
       "    <tr>\n",
       "      <th>input4</th>\n",
       "      <td>0.486787</td>\n",
       "      <td>0.224884</td>\n",
       "      <td>Gymkata</td>\n",
       "    </tr>\n",
       "  </tbody>\n",
       "</table>\n",
       "</div>"
      ],
      "text/plain": [
       "              w1        w2    token\n",
       "input4                             \n",
       "input1  0.040346  0.303361   Troll2\n",
       "input2  0.072815 -0.317135       is\n",
       "input3 -0.213966  0.429999    great\n",
       "input4  0.486787  0.224884  Gymkata"
      ]
     },
     "execution_count": 9,
     "metadata": {},
     "output_type": "execute_result"
    }
   ],
   "source": [
    "df"
   ]
  },
  {
   "cell_type": "code",
   "execution_count": 10,
   "id": "12353d88-2c20-4ecd-85ff-1ab6ce1aa948",
   "metadata": {},
   "outputs": [
    {
     "data": {
      "image/png": "[encoded data removed]",
      "text/plain": [
       "<Figure size 800x600 with 1 Axes>"
      ]
     },
     "metadata": {},
     "output_type": "display_data"
    }
   ],
   "source": [
    "# Scatter plot\n",
    "plt.figure(figsize=(8, 6))\n",
    "sns.set(style='whitegrid')\n",
    "\n",
    "sns.scatterplot(x=df['w1'], y=df['w2'], s=100, color='green', marker='o')\n",
    "\n",
    "# Add labels for each point\n",
    "for word, row in df.iterrows():\n",
    "    plt.text(row['w1'] + 0.01, row['w2'] + 0.01, word, fontsize=9)\n",
    "\n",
    "# Axis labels and title\n",
    "plt.xlabel(\"Weight 1 (w1)\")\n",
    "plt.ylabel(\"Weight 2 (w2)\")\n",
    "plt.title(\"2D Weight Embeddings for Input Tokens\")\n",
    "\n",
    "plt.tight_layout()\n",
    "plt.show()"
   ]
  },
  {
   "cell_type": "code",
   "execution_count": 11,
   "id": "043b5b3f-adee-4902-a7a9-1b0fe0407c9d",
   "metadata": {},
   "outputs": [
    {
     "name": "stderr",
     "output_type": "stream",
     "text": [
      "Using default `ModelCheckpoint`. Consider installing `litmodels` package to enable `LitModelCheckpoint` for automatic upload to the Lightning model registry.\n",
      "GPU available: False, used: False\n",
      "TPU available: False, using: 0 TPU cores\n",
      "HPU available: False, using: 0 HPUs\n",
      "/Users/kritiagrawal/Desktop/job_practice/ml_engineering/neural_networks/.venv/lib/python3.11/site-packages/lightning/pytorch/trainer/connectors/logger_connector/logger_connector.py:76: Starting from v1.9.0, `tensorboardX` has been removed as a dependency of the `lightning.pytorch` package, due to potential conflicts with other packages in the ML ecosystem. For this reason, `logger=True` will use `CSVLogger` as the default logger, unless the `tensorboard` or `tensorboardX` packages are found. Please `pip install lightning[extra]` or one of them to enable TensorBoard support by default\n",
      "\n",
      "  | Name         | Type             | Params | Mode \n",
      "----------------------------------------------------------\n",
      "0 | loss         | CrossEntropyLoss | 0      | train\n",
      "  | other params | n/a              | 16     | n/a  \n",
      "----------------------------------------------------------\n",
      "16        Trainable params\n",
      "0         Non-trainable params\n",
      "16        Total params\n",
      "0.000     Total estimated model params size (MB)\n",
      "1         Modules in train mode\n",
      "0         Modules in eval mode\n",
      "/Users/kritiagrawal/Desktop/job_practice/ml_engineering/neural_networks/.venv/lib/python3.11/site-packages/lightning/pytorch/trainer/connectors/data_connector.py:425: The 'train_dataloader' does not have many workers which may be a bottleneck. Consider increasing the value of the `num_workers` argument` to `num_workers=3` in the `DataLoader` to improve performance.\n",
      "/Users/kritiagrawal/Desktop/job_practice/ml_engineering/neural_networks/.venv/lib/python3.11/site-packages/lightning/pytorch/loops/fit_loop.py:310: The number of training batches (4) is smaller than the logging interval Trainer(log_every_n_steps=50). Set a lower value for log_every_n_steps if you want to see logs for the training epoch.\n"
     ]
    },
    {
     "name": "stdout",
     "output_type": "stream",
     "text": [
      "Epoch 199: 100%|████████████████████████████████████████████████████████████████████████████████████████████████████| 4/4 [00:00<00:00, 98.12it/s, v_num=7]"
     ]
    },
    {
     "name": "stderr",
     "output_type": "stream",
     "text": [
      "`Trainer.fit` stopped: `max_epochs=200` reached.\n"
     ]
    },
    {
     "name": "stdout",
     "output_type": "stream",
     "text": [
      "Epoch 199: 100%|████████████████████████████████████████████████████████████████████████████████████████████████████| 4/4 [00:00<00:00, 79.89it/s, v_num=7]\n"
     ]
    }
   ],
   "source": [
    "# training the NN\n",
    "trainer = L.Trainer(max_epochs = 200)\n",
    "trainer.fit(model_from_scratch, train_dataloaders = dataloader)"
   ]
  },
  {
   "cell_type": "code",
   "execution_count": null,
   "id": "fa7bf2a5-64a3-4387-9e1d-e4410ae3f3fb",
   "metadata": {},
   "outputs": [],
   "source": []
  },
  {
   "cell_type": "code",
   "execution_count": 12,
   "id": "42087b43-6977-42e8-9928-5cc3136fd31a",
   "metadata": {},
   "outputs": [],
   "source": [
    "# creating a dataframe with new word embeddings\n",
    "param_after_training_dict = {}\n",
    "for name, param in model_from_scratch.named_parameters():\n",
    "    if name.startswith('input') and \"_\" in name:\n",
    "        input_num, weight = name.split('_')\n",
    "        if input_num not in param_after_training_dict:\n",
    "            param_after_training_dict[input_num] = {}\n",
    "        param_after_training_dict[input_num][weight] = param.item()\n",
    "\n",
    "# convert to dataframe \n",
    "df_after_training = pd.DataFrame.from_dict(param_after_training_dict, orient = 'index')\n",
    "df_after_training.index.name = inputs"
   ]
  },
  {
   "cell_type": "code",
   "execution_count": 13,
   "id": "ee79c0a5-bbc8-4a88-89b0-822ba8fccab4",
   "metadata": {},
   "outputs": [],
   "source": [
    "df_after_training['token'] = ['Troll2', 'is', 'great','Gymkata']\n",
    "df_after_training.set_index('token', inplace=True)"
   ]
  },
  {
   "cell_type": "code",
   "execution_count": 14,
   "id": "a23cc244-0542-4cef-97c7-6755f73bff4b",
   "metadata": {},
   "outputs": [
    {
     "data": {
      "text/html": [
       "<div>\n",
       "<style scoped>\n",
       "    .dataframe tbody tr th:only-of-type {\n",
       "        vertical-align: middle;\n",
       "    }\n",
       "\n",
       "    .dataframe tbody tr th {\n",
       "        vertical-align: top;\n",
       "    }\n",
       "\n",
       "    .dataframe thead th {\n",
       "        text-align: right;\n",
       "    }\n",
       "</style>\n",
       "<table border=\"1\" class=\"dataframe\">\n",
       "  <thead>\n",
       "    <tr style=\"text-align: right;\">\n",
       "      <th></th>\n",
       "      <th>w1</th>\n",
       "      <th>w2</th>\n",
       "    </tr>\n",
       "    <tr>\n",
       "      <th>token</th>\n",
       "      <th></th>\n",
       "      <th></th>\n",
       "    </tr>\n",
       "  </thead>\n",
       "  <tbody>\n",
       "    <tr>\n",
       "      <th>Troll2</th>\n",
       "      <td>1.851959</td>\n",
       "      <td>1.935249</td>\n",
       "    </tr>\n",
       "    <tr>\n",
       "      <th>is</th>\n",
       "      <td>-1.721043</td>\n",
       "      <td>-2.376116</td>\n",
       "    </tr>\n",
       "    <tr>\n",
       "      <th>great</th>\n",
       "      <td>-2.350553</td>\n",
       "      <td>1.697360</td>\n",
       "    </tr>\n",
       "    <tr>\n",
       "      <th>Gymkata</th>\n",
       "      <td>2.040512</td>\n",
       "      <td>1.702637</td>\n",
       "    </tr>\n",
       "  </tbody>\n",
       "</table>\n",
       "</div>"
      ],
      "text/plain": [
       "               w1        w2\n",
       "token                      \n",
       "Troll2   1.851959  1.935249\n",
       "is      -1.721043 -2.376116\n",
       "great   -2.350553  1.697360\n",
       "Gymkata  2.040512  1.702637"
      ]
     },
     "execution_count": 14,
     "metadata": {},
     "output_type": "execute_result"
    }
   ],
   "source": [
    "df_after_training"
   ]
  },
  {
   "cell_type": "code",
   "execution_count": 15,
   "id": "ca5ad538-fd99-426e-b9db-7473563ff21c",
   "metadata": {},
   "outputs": [
    {
     "data": {
      "image/png": "[encoded data removed]",
      "text/plain": [
       "<Figure size 800x600 with 1 Axes>"
      ]
     },
     "metadata": {},
     "output_type": "display_data"
    }
   ],
   "source": [
    "# Scatter plot\n",
    "plt.figure(figsize=(8, 6))\n",
    "sns.set(style='whitegrid')\n",
    "\n",
    "sns.scatterplot(x=df_after_training['w1'], y=df_after_training['w2'], s=100, color='green', marker='o')\n",
    "\n",
    "# Add labels for each point\n",
    "for token, row in df_after_training.iterrows():\n",
    "    plt.text(row['w1'] + 0.01, row['w2'] + 0.01, token, fontsize=9)\n",
    "\n",
    "# Axis labels and title\n",
    "plt.xlabel(\"Weight 1 (w1)\")\n",
    "plt.ylabel(\"Weight 2 (w2)\")\n",
    "plt.title(\"2D Weight Embeddings for Input Tokens\")\n",
    "\n",
    "plt.tight_layout()\n",
    "plt.show()"
   ]
  },
  {
   "cell_type": "code",
   "execution_count": 17,
   "id": "f2903063-451a-4565-9477-6f67d02ab629",
   "metadata": {},
   "outputs": [
    {
     "name": "stdout",
     "output_type": "stream",
     "text": [
      "tensor([0., 1., 0., 0.], grad_fn=<RoundBackward1>)\n",
      "tensor([0., 0., 1., 0.], grad_fn=<RoundBackward1>)\n",
      "tensor([0., 0., 0., 1.], grad_fn=<RoundBackward1>)\n"
     ]
    }
   ],
   "source": [
    "# inference\n",
    "softmax = nn.Softmax(dim=0) # setting dim=0 so that we can apply it to rows of output values and not columsn of output values\n",
    "\n",
    "# passing Troll2 as OHE tensor through our model_from_scratch and \n",
    "#the applying softmax on it, \n",
    "#finally rounding the output of softmax to 2 decimal places\n",
    "print(torch.round(softmax(model_from_scratch(torch.tensor([[1., 0., 0., 0.]]))), decimals = 2))\n",
    "\n",
    "print(torch.round(softmax(model_from_scratch(torch.tensor([[0., 1.0, 0., 0.]]))), decimals = 2))\n",
    "\n",
    "print(torch.round(softmax(model_from_scratch(torch.tensor([[0., 0., 1.0, 0.]]))), decimals = 2))\n"
   ]
  },
  {
   "cell_type": "code",
   "execution_count": null,
   "id": "301229da-2013-4e4e-820d-5b10074a5219",
   "metadata": {},
   "outputs": [],
   "source": []
  }
 ],
 "metadata": {
  "kernelspec": {
   "display_name": "Python 3 (ipykernel)",
   "language": "python",
   "name": "python3"
  },
  "language_info": {
   "codemirror_mode": {
    "name": "ipython",
    "version": 3
   },
   "file_extension": ".py",
   "mimetype": "text/x-python",
   "name": "python",
   "nbconvert_exporter": "python",
   "pygments_lexer": "ipython3",
   "version": "3.11.8"
  }
 },
 "nbformat": 4,
 "nbformat_minor": 5
}
