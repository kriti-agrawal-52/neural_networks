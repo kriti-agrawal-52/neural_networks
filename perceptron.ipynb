{
 "cells": [
  {
   "cell_type": "code",
   "execution_count": 2,
   "id": "020501e8-f4c1-41e6-bbf4-2cdb00095048",
   "metadata": {},
   "outputs": [],
   "source": [
    "import torch # used to create tensors to store all of the numerical values including the raw data and values for weights and biases\n",
    "import torch.nn as nn # used to make weights and biases part of the neural network\n",
    "import torch.nn.functional as F # gives us the activation functions \n",
    "from torch.optim import SGD # stochastic gradient descent to fit neural network to the data"
   ]
  },
  {
   "cell_type": "code",
   "execution_count": 3,
   "id": "ba2d707b-d097-4bbb-94bd-40843daa0ef4",
   "metadata": {},
   "outputs": [],
   "source": [
    "import matplotlib.pyplot as plt\n",
    "import seaborn as sns"
   ]
  },
  {
   "cell_type": "code",
   "execution_count": 4,
   "id": "8bfd6328-b070-437c-bae0-bd54a4abadc0",
   "metadata": {},
   "outputs": [],
   "source": [
    "# for each new neural network we create a new class\n",
    "class BasicNN(nn.Module): \n",
    "    def __init__(self):\n",
    "        super().__init__() #initialising the parent class\n",
    "        #initialising weights and biases of the neural network\n",
    "        self.w00 = nn.Parameter(torch.tensor(1.7), requires_grad = False) # first weight 00 is initialised as 1.7 value and we wont be optimising it using gradient descent \n",
    "        self.b00 = nn.Parameter(torch.tensor(-0.85), requires_grad = False)\n",
    "        self.w01 = nn.Parameter(torch.tensor(-40.8), requires_grad = False)\n",
    "        self.w10 = nn.Parameter(torch.tensor(12.6), requires_grad = False)\n",
    "        self.b10 = nn.Parameter(torch.tensor(0.0), requires_grad = False)\n",
    "        self.w11 = nn.Parameter(torch.tensor(2.7), requires_grad = False)\n",
    "\n",
    "        self.final_bias = nn.Parameter(torch.tensor(-16.), requires_grad = False)\n",
    "\n",
    "    def forward(self, input): # does a forward pass through the neural network to calclate and return the output value \n",
    "        # passing the input through the activation function in top layer\n",
    "        input_to_top_relu = input * self.w00 + self.b00\n",
    "        top_relu_output = F.relu(input_to_top_relu)\n",
    "        # transforming the output of the relu function in top layer\n",
    "        scaled_top_relu_output = top_relu_output * self.w01\n",
    "\n",
    "        # passing the input through the activation function in bottom layer\n",
    "        input_to_bottom_relu = input * self.w10 + self.b10\n",
    "        bottom_relu_output = F.relu(input_to_bottom_relu)\n",
    "        # transforming the output of the relu function in bottom layer\n",
    "        scaled_bottom_relu_output = bottom_relu_output * self.w11\n",
    "\n",
    "        input_to_final_relu = scaled_top_relu_output + scaled_bottom_relu_output + self.final_bias\n",
    "        output = F.relu(input_to_final_relu)\n",
    "\n",
    "        return output"
   ]
  },
  {
   "cell_type": "code",
   "execution_count": null,
   "id": "089a7896-9adf-4daf-9b0a-7c2e2916bd0e",
   "metadata": {},
   "outputs": [],
   "source": []
  }
 ],
 "metadata": {
  "kernelspec": {
   "display_name": "Python 3 (ipykernel)",
   "language": "python",
   "name": "python3"
  },
  "language_info": {
   "codemirror_mode": {
    "name": "ipython",
    "version": 3
   },
   "file_extension": ".py",
   "mimetype": "text/x-python",
   "name": "python",
   "nbconvert_exporter": "python",
   "pygments_lexer": "ipython3",
   "version": "3.11.8"
  }
 },
 "nbformat": 4,
 "nbformat_minor": 5
}
